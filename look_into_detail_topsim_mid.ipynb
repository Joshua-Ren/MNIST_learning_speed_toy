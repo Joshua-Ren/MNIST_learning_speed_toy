{
 "cells": [
  {
   "cell_type": "markdown",
   "metadata": {},
   "source": [
    "# 观察训练过程中topsim_mid与泛化性关系\n",
    "切换成Color-MNIST后，发现很多setting下，topsim_mid都会存在先上后下的情况，因此首先探究下这种行为意味着什么：\n",
    "1. High topsim是否和High generalization ability有必然联系\n",
    "2. Mid layer附近的non-lineartiy设计以及Loss设计会有影响么？\n",
    "3. High topsim可否在NIL结构里不断突破“最高”，一代代增长"
   ]
  },
  {
   "cell_type": "markdown",
   "metadata": {},
   "source": [
    "## Experiment 1： Basic Setting of LeNet\n",
    "### Network Strucutre：\n",
    "采用未经修改的LeNet结构，取经过2层CNN+MaxPool+ReLU后的表示（1*400）为mid，mid后边接两层Linear+ReLU。计算(x,mid)的topsim时，由于mid取值范围是实数，我们用cosine距离计算。\n",
    "### 实验流程：\n",
    "\n",
    "- Case 1：观察随机初始化的agent，在进行Bob train + Fine tune后得到的泛化性能\n",
    "- Case 2：观察你supervised learning过程中，各阶段agent的泛化性能：\n",
    "    - Step 1：跑一遍pop_interact_clas，期间记记录下各个时间点的agent\n",
    "    - Step 2：每一个agent都拿去跑一下pop_interact_Bob_fine"
   ]
  },
  {
   "cell_type": "code",
   "execution_count": 1,
   "metadata": {},
   "outputs": [],
   "source": [
    "from MNIST_standard_classification import *\n",
    "\n",
    "PRE_ROUNDS = 10\n",
    "INT_ROUNDS = 10\n",
    "FIN_ROUNDS = 4\n",
    "    \n",
    "train_loader, valid_loader, zs_loader = Data_Gen_Color_MNIST(batch_size=128, validation_split=0,random_seed=42)\n",
    "all_x, all_y, all_ID, order_all_x, order_all_y, order_all_ID = get_allxyID(train_loader)"
   ]
  },
  {
   "cell_type": "code",
   "execution_count": 2,
   "metadata": {},
   "outputs": [],
   "source": [
    "#pop_infa = new_pop_CLAS(1)[0]\n",
    "#_, gen_ability = pop_interact_Bob_fine(pop_infa, train_loader, zs_loader, all_x, B_rounds=10, F_rounds=4, topsim_flag=True, print_rnd=True,lr=1e-3,lr_fine=1e-5)  "
   ]
  },
  {
   "cell_type": "markdown",
   "metadata": {},
   "source": [
    "有点惊讶啊，随机出来的LeNet，topsim_mid就是从0.77左右开始的"
   ]
  },
  {
   "cell_type": "code",
   "execution_count": 3,
   "metadata": {},
   "outputs": [],
   "source": [
    "#plt.plot(gen_ability['topsim_mid'])"
   ]
  },
  {
   "cell_type": "code",
   "execution_count": null,
   "metadata": {},
   "outputs": [],
   "source": []
  },
  {
   "cell_type": "code",
   "execution_count": null,
   "metadata": {},
   "outputs": [],
   "source": []
  }
 ],
 "metadata": {
  "kernelspec": {
   "display_name": "Python 3",
   "language": "python",
   "name": "python3"
  },
  "language_info": {
   "codemirror_mode": {
    "name": "ipython",
    "version": 3
   },
   "file_extension": ".py",
   "mimetype": "text/x-python",
   "name": "python",
   "nbconvert_exporter": "python",
   "pygments_lexer": "ipython3",
   "version": "3.6.9"
  }
 },
 "nbformat": 4,
 "nbformat_minor": 2
}
